{
 "cells": [
  {
   "cell_type": "markdown",
   "id": "6ae5790e",
   "metadata": {
    "papermill": {
     "duration": 0.005728,
     "end_time": "2022-07-25T19:43:53.921066",
     "exception": false,
     "start_time": "2022-07-25T19:43:53.915338",
     "status": "completed"
    },
    "tags": []
   },
   "source": [
    "# Heart Disease Predictor"
   ]
  },
  {
   "cell_type": "markdown",
   "id": "7a5d19ca",
   "metadata": {
    "papermill": {
     "duration": 0.004407,
     "end_time": "2022-07-25T19:43:53.930386",
     "exception": false,
     "start_time": "2022-07-25T19:43:53.925979",
     "status": "completed"
    },
    "tags": []
   },
   "source": [
    "This project takes a cleaned dataset containing key indicators of heart disease. \n",
    "\n",
    "It compares the performance of three models - Random Forest classifier with randomized search for hyperparameter tuning, XGBoost classifier, and K-Nearest Neighbor."
   ]
  },
  {
   "cell_type": "code",
   "execution_count": 56,
   "id": "8739850a",
   "metadata": {
    "papermill": {
     "duration": 1.456679,
     "end_time": "2022-07-25T19:43:55.391723",
     "exception": false,
     "start_time": "2022-07-25T19:43:53.935044",
     "status": "completed"
    },
    "scrolled": true,
    "tags": []
   },
   "outputs": [],
   "source": [
    "# Load in libraries\n",
    "\n",
    "from sklearn.model_selection import train_test_split as tts\n",
    "import pandas as pd"
   ]
  },
  {
   "cell_type": "markdown",
   "id": "a18993fc",
   "metadata": {},
   "source": [
    "##### EDA"
   ]
  },
  {
   "cell_type": "code",
   "execution_count": 57,
   "id": "87c93a69",
   "metadata": {
    "papermill": {
     "duration": 1.458625,
     "end_time": "2022-07-25T19:43:56.855326",
     "exception": false,
     "start_time": "2022-07-25T19:43:55.396701",
     "status": "completed"
    },
    "tags": []
   },
   "outputs": [
    {
     "data": {
      "text/html": [
       "<div>\n",
       "<style scoped>\n",
       "    .dataframe tbody tr th:only-of-type {\n",
       "        vertical-align: middle;\n",
       "    }\n",
       "\n",
       "    .dataframe tbody tr th {\n",
       "        vertical-align: top;\n",
       "    }\n",
       "\n",
       "    .dataframe thead th {\n",
       "        text-align: right;\n",
       "    }\n",
       "</style>\n",
       "<table border=\"1\" class=\"dataframe\">\n",
       "  <thead>\n",
       "    <tr style=\"text-align: right;\">\n",
       "      <th></th>\n",
       "      <th>State</th>\n",
       "      <th>Sex</th>\n",
       "      <th>GeneralHealth</th>\n",
       "      <th>PhysicalHealthDays</th>\n",
       "      <th>MentalHealthDays</th>\n",
       "      <th>LastCheckupTime</th>\n",
       "      <th>PhysicalActivities</th>\n",
       "      <th>SleepHours</th>\n",
       "      <th>RemovedTeeth</th>\n",
       "      <th>HadHeartAttack</th>\n",
       "      <th>...</th>\n",
       "      <th>HeightInMeters</th>\n",
       "      <th>WeightInKilograms</th>\n",
       "      <th>BMI</th>\n",
       "      <th>AlcoholDrinkers</th>\n",
       "      <th>HIVTesting</th>\n",
       "      <th>FluVaxLast12</th>\n",
       "      <th>PneumoVaxEver</th>\n",
       "      <th>TetanusLast10Tdap</th>\n",
       "      <th>HighRiskLastYear</th>\n",
       "      <th>CovidPos</th>\n",
       "    </tr>\n",
       "  </thead>\n",
       "  <tbody>\n",
       "    <tr>\n",
       "      <th>0</th>\n",
       "      <td>Alabama</td>\n",
       "      <td>Female</td>\n",
       "      <td>Very good</td>\n",
       "      <td>4.0</td>\n",
       "      <td>0.0</td>\n",
       "      <td>Within past year (anytime less than 12 months ...</td>\n",
       "      <td>Yes</td>\n",
       "      <td>9.0</td>\n",
       "      <td>None of them</td>\n",
       "      <td>No</td>\n",
       "      <td>...</td>\n",
       "      <td>1.60</td>\n",
       "      <td>71.67</td>\n",
       "      <td>27.99</td>\n",
       "      <td>No</td>\n",
       "      <td>No</td>\n",
       "      <td>Yes</td>\n",
       "      <td>Yes</td>\n",
       "      <td>Yes, received Tdap</td>\n",
       "      <td>No</td>\n",
       "      <td>No</td>\n",
       "    </tr>\n",
       "    <tr>\n",
       "      <th>1</th>\n",
       "      <td>Alabama</td>\n",
       "      <td>Male</td>\n",
       "      <td>Very good</td>\n",
       "      <td>0.0</td>\n",
       "      <td>0.0</td>\n",
       "      <td>Within past year (anytime less than 12 months ...</td>\n",
       "      <td>Yes</td>\n",
       "      <td>6.0</td>\n",
       "      <td>None of them</td>\n",
       "      <td>No</td>\n",
       "      <td>...</td>\n",
       "      <td>1.78</td>\n",
       "      <td>95.25</td>\n",
       "      <td>30.13</td>\n",
       "      <td>No</td>\n",
       "      <td>No</td>\n",
       "      <td>Yes</td>\n",
       "      <td>Yes</td>\n",
       "      <td>Yes, received tetanus shot but not sure what type</td>\n",
       "      <td>No</td>\n",
       "      <td>No</td>\n",
       "    </tr>\n",
       "    <tr>\n",
       "      <th>2</th>\n",
       "      <td>Alabama</td>\n",
       "      <td>Male</td>\n",
       "      <td>Very good</td>\n",
       "      <td>0.0</td>\n",
       "      <td>0.0</td>\n",
       "      <td>Within past year (anytime less than 12 months ...</td>\n",
       "      <td>No</td>\n",
       "      <td>8.0</td>\n",
       "      <td>6 or more, but not all</td>\n",
       "      <td>No</td>\n",
       "      <td>...</td>\n",
       "      <td>1.85</td>\n",
       "      <td>108.86</td>\n",
       "      <td>31.66</td>\n",
       "      <td>Yes</td>\n",
       "      <td>No</td>\n",
       "      <td>No</td>\n",
       "      <td>Yes</td>\n",
       "      <td>No, did not receive any tetanus shot in the pa...</td>\n",
       "      <td>No</td>\n",
       "      <td>Yes</td>\n",
       "    </tr>\n",
       "    <tr>\n",
       "      <th>3</th>\n",
       "      <td>Alabama</td>\n",
       "      <td>Female</td>\n",
       "      <td>Fair</td>\n",
       "      <td>5.0</td>\n",
       "      <td>0.0</td>\n",
       "      <td>Within past year (anytime less than 12 months ...</td>\n",
       "      <td>Yes</td>\n",
       "      <td>9.0</td>\n",
       "      <td>None of them</td>\n",
       "      <td>No</td>\n",
       "      <td>...</td>\n",
       "      <td>1.70</td>\n",
       "      <td>90.72</td>\n",
       "      <td>31.32</td>\n",
       "      <td>No</td>\n",
       "      <td>No</td>\n",
       "      <td>Yes</td>\n",
       "      <td>Yes</td>\n",
       "      <td>No, did not receive any tetanus shot in the pa...</td>\n",
       "      <td>No</td>\n",
       "      <td>Yes</td>\n",
       "    </tr>\n",
       "    <tr>\n",
       "      <th>4</th>\n",
       "      <td>Alabama</td>\n",
       "      <td>Female</td>\n",
       "      <td>Good</td>\n",
       "      <td>3.0</td>\n",
       "      <td>15.0</td>\n",
       "      <td>Within past year (anytime less than 12 months ...</td>\n",
       "      <td>Yes</td>\n",
       "      <td>5.0</td>\n",
       "      <td>1 to 5</td>\n",
       "      <td>No</td>\n",
       "      <td>...</td>\n",
       "      <td>1.55</td>\n",
       "      <td>79.38</td>\n",
       "      <td>33.07</td>\n",
       "      <td>No</td>\n",
       "      <td>No</td>\n",
       "      <td>Yes</td>\n",
       "      <td>Yes</td>\n",
       "      <td>No, did not receive any tetanus shot in the pa...</td>\n",
       "      <td>No</td>\n",
       "      <td>No</td>\n",
       "    </tr>\n",
       "  </tbody>\n",
       "</table>\n",
       "<p>5 rows × 40 columns</p>\n",
       "</div>"
      ],
      "text/plain": [
       "     State     Sex GeneralHealth  PhysicalHealthDays  MentalHealthDays  \\\n",
       "0  Alabama  Female     Very good                 4.0               0.0   \n",
       "1  Alabama    Male     Very good                 0.0               0.0   \n",
       "2  Alabama    Male     Very good                 0.0               0.0   \n",
       "3  Alabama  Female          Fair                 5.0               0.0   \n",
       "4  Alabama  Female          Good                 3.0              15.0   \n",
       "\n",
       "                                     LastCheckupTime PhysicalActivities  \\\n",
       "0  Within past year (anytime less than 12 months ...                Yes   \n",
       "1  Within past year (anytime less than 12 months ...                Yes   \n",
       "2  Within past year (anytime less than 12 months ...                 No   \n",
       "3  Within past year (anytime less than 12 months ...                Yes   \n",
       "4  Within past year (anytime less than 12 months ...                Yes   \n",
       "\n",
       "   SleepHours            RemovedTeeth HadHeartAttack  ... HeightInMeters  \\\n",
       "0         9.0            None of them             No  ...           1.60   \n",
       "1         6.0            None of them             No  ...           1.78   \n",
       "2         8.0  6 or more, but not all             No  ...           1.85   \n",
       "3         9.0            None of them             No  ...           1.70   \n",
       "4         5.0                  1 to 5             No  ...           1.55   \n",
       "\n",
       "  WeightInKilograms    BMI AlcoholDrinkers HIVTesting FluVaxLast12  \\\n",
       "0             71.67  27.99              No         No          Yes   \n",
       "1             95.25  30.13              No         No          Yes   \n",
       "2            108.86  31.66             Yes         No           No   \n",
       "3             90.72  31.32              No         No          Yes   \n",
       "4             79.38  33.07              No         No          Yes   \n",
       "\n",
       "  PneumoVaxEver                                  TetanusLast10Tdap  \\\n",
       "0           Yes                                 Yes, received Tdap   \n",
       "1           Yes  Yes, received tetanus shot but not sure what type   \n",
       "2           Yes  No, did not receive any tetanus shot in the pa...   \n",
       "3           Yes  No, did not receive any tetanus shot in the pa...   \n",
       "4           Yes  No, did not receive any tetanus shot in the pa...   \n",
       "\n",
       "  HighRiskLastYear CovidPos  \n",
       "0               No       No  \n",
       "1               No       No  \n",
       "2               No      Yes  \n",
       "3               No      Yes  \n",
       "4               No       No  \n",
       "\n",
       "[5 rows x 40 columns]"
      ]
     },
     "execution_count": 57,
     "metadata": {},
     "output_type": "execute_result"
    }
   ],
   "source": [
    "# Pull in heart disease dataset from Kaggle\n",
    "### Get 2020 dataset: https://www.kaggle.com/datasets/kamilpytlak/personal-key-indicators-of-heart-disease\n",
    "df = pd.read_csv(\"heart_2022_no_nans.csv\")\n",
    "df.head()"
   ]
  },
  {
   "cell_type": "code",
   "execution_count": 58,
   "id": "618cb5ec",
   "metadata": {},
   "outputs": [
    {
     "name": "stdout",
     "output_type": "stream",
     "text": [
      "<class 'pandas.core.frame.DataFrame'>\n",
      "RangeIndex: 246022 entries, 0 to 246021\n",
      "Data columns (total 40 columns):\n",
      " #   Column                     Non-Null Count   Dtype  \n",
      "---  ------                     --------------   -----  \n",
      " 0   State                      246022 non-null  object \n",
      " 1   Sex                        246022 non-null  object \n",
      " 2   GeneralHealth              246022 non-null  object \n",
      " 3   PhysicalHealthDays         246022 non-null  float64\n",
      " 4   MentalHealthDays           246022 non-null  float64\n",
      " 5   LastCheckupTime            246022 non-null  object \n",
      " 6   PhysicalActivities         246022 non-null  object \n",
      " 7   SleepHours                 246022 non-null  float64\n",
      " 8   RemovedTeeth               246022 non-null  object \n",
      " 9   HadHeartAttack             246022 non-null  object \n",
      " 10  HadAngina                  246022 non-null  object \n",
      " 11  HadStroke                  246022 non-null  object \n",
      " 12  HadAsthma                  246022 non-null  object \n",
      " 13  HadSkinCancer              246022 non-null  object \n",
      " 14  HadCOPD                    246022 non-null  object \n",
      " 15  HadDepressiveDisorder      246022 non-null  object \n",
      " 16  HadKidneyDisease           246022 non-null  object \n",
      " 17  HadArthritis               246022 non-null  object \n",
      " 18  HadDiabetes                246022 non-null  object \n",
      " 19  DeafOrHardOfHearing        246022 non-null  object \n",
      " 20  BlindOrVisionDifficulty    246022 non-null  object \n",
      " 21  DifficultyConcentrating    246022 non-null  object \n",
      " 22  DifficultyWalking          246022 non-null  object \n",
      " 23  DifficultyDressingBathing  246022 non-null  object \n",
      " 24  DifficultyErrands          246022 non-null  object \n",
      " 25  SmokerStatus               246022 non-null  object \n",
      " 26  ECigaretteUsage            246022 non-null  object \n",
      " 27  ChestScan                  246022 non-null  object \n",
      " 28  RaceEthnicityCategory      246022 non-null  object \n",
      " 29  AgeCategory                246022 non-null  object \n",
      " 30  HeightInMeters             246022 non-null  float64\n",
      " 31  WeightInKilograms          246022 non-null  float64\n",
      " 32  BMI                        246022 non-null  float64\n",
      " 33  AlcoholDrinkers            246022 non-null  object \n",
      " 34  HIVTesting                 246022 non-null  object \n",
      " 35  FluVaxLast12               246022 non-null  object \n",
      " 36  PneumoVaxEver              246022 non-null  object \n",
      " 37  TetanusLast10Tdap          246022 non-null  object \n",
      " 38  HighRiskLastYear           246022 non-null  object \n",
      " 39  CovidPos                   246022 non-null  object \n",
      "dtypes: float64(6), object(34)\n",
      "memory usage: 75.1+ MB\n"
     ]
    }
   ],
   "source": [
    "df.info()"
   ]
  },
  {
   "cell_type": "code",
   "execution_count": 59,
   "id": "ec35e80d",
   "metadata": {
    "papermill": {
     "duration": 0.072136,
     "end_time": "2022-07-25T19:43:56.932566",
     "exception": false,
     "start_time": "2022-07-25T19:43:56.860430",
     "status": "completed"
    },
    "tags": []
   },
   "outputs": [
    {
     "data": {
      "text/plain": [
       "HadHeartAttack\n",
       "No     0.945391\n",
       "Yes    0.054609\n",
       "Name: proportion, dtype: float64"
      ]
     },
     "execution_count": 59,
     "metadata": {},
     "output_type": "execute_result"
    }
   ],
   "source": [
    "df['HadHeartAttack'].value_counts(normalize=True)"
   ]
  },
  {
   "cell_type": "code",
   "execution_count": 60,
   "id": "00d851d9",
   "metadata": {
    "papermill": {
     "duration": 0.385369,
     "end_time": "2022-07-25T19:43:57.323336",
     "exception": false,
     "start_time": "2022-07-25T19:43:56.937967",
     "status": "completed"
    },
    "tags": []
   },
   "outputs": [
    {
     "data": {
      "text/html": [
       "<div>\n",
       "<style scoped>\n",
       "    .dataframe tbody tr th:only-of-type {\n",
       "        vertical-align: middle;\n",
       "    }\n",
       "\n",
       "    .dataframe tbody tr th {\n",
       "        vertical-align: top;\n",
       "    }\n",
       "\n",
       "    .dataframe thead th {\n",
       "        text-align: right;\n",
       "    }\n",
       "</style>\n",
       "<table border=\"1\" class=\"dataframe\">\n",
       "  <thead>\n",
       "    <tr style=\"text-align: right;\">\n",
       "      <th></th>\n",
       "      <th>State</th>\n",
       "      <th>Sex</th>\n",
       "      <th>GeneralHealth</th>\n",
       "      <th>LastCheckupTime</th>\n",
       "      <th>PhysicalActivities</th>\n",
       "      <th>RemovedTeeth</th>\n",
       "      <th>HadHeartAttack</th>\n",
       "      <th>HadAngina</th>\n",
       "      <th>HadStroke</th>\n",
       "      <th>HadAsthma</th>\n",
       "      <th>...</th>\n",
       "      <th>ChestScan</th>\n",
       "      <th>RaceEthnicityCategory</th>\n",
       "      <th>AgeCategory</th>\n",
       "      <th>AlcoholDrinkers</th>\n",
       "      <th>HIVTesting</th>\n",
       "      <th>FluVaxLast12</th>\n",
       "      <th>PneumoVaxEver</th>\n",
       "      <th>TetanusLast10Tdap</th>\n",
       "      <th>HighRiskLastYear</th>\n",
       "      <th>CovidPos</th>\n",
       "    </tr>\n",
       "  </thead>\n",
       "  <tbody>\n",
       "    <tr>\n",
       "      <th>0</th>\n",
       "      <td>54</td>\n",
       "      <td>2</td>\n",
       "      <td>5</td>\n",
       "      <td>4</td>\n",
       "      <td>2</td>\n",
       "      <td>4</td>\n",
       "      <td>2</td>\n",
       "      <td>2</td>\n",
       "      <td>2</td>\n",
       "      <td>2</td>\n",
       "      <td>...</td>\n",
       "      <td>2</td>\n",
       "      <td>5</td>\n",
       "      <td>13</td>\n",
       "      <td>2</td>\n",
       "      <td>2</td>\n",
       "      <td>2</td>\n",
       "      <td>2</td>\n",
       "      <td>4</td>\n",
       "      <td>2</td>\n",
       "      <td>3</td>\n",
       "    </tr>\n",
       "  </tbody>\n",
       "</table>\n",
       "<p>1 rows × 34 columns</p>\n",
       "</div>"
      ],
      "text/plain": [
       "   State  Sex  GeneralHealth  LastCheckupTime  PhysicalActivities  \\\n",
       "0     54    2              5                4                   2   \n",
       "\n",
       "   RemovedTeeth  HadHeartAttack  HadAngina  HadStroke  HadAsthma  ...  \\\n",
       "0             4               2          2          2          2  ...   \n",
       "\n",
       "   ChestScan  RaceEthnicityCategory  AgeCategory  AlcoholDrinkers  HIVTesting  \\\n",
       "0          2                      5           13                2           2   \n",
       "\n",
       "   FluVaxLast12  PneumoVaxEver  TetanusLast10Tdap  HighRiskLastYear  CovidPos  \n",
       "0             2              2                  4                 2         3  \n",
       "\n",
       "[1 rows x 34 columns]"
      ]
     },
     "metadata": {},
     "output_type": "display_data"
    }
   ],
   "source": [
    "# Count of unique values\n",
    "display(pd.DataFrame(df.select_dtypes(include=['O']).nunique()).T)"
   ]
  },
  {
   "cell_type": "code",
   "execution_count": 61,
   "id": "7055de93",
   "metadata": {
    "papermill": {
     "duration": 0.040847,
     "end_time": "2022-07-25T19:43:57.369790",
     "exception": false,
     "start_time": "2022-07-25T19:43:57.328943",
     "status": "completed"
    },
    "tags": []
   },
   "outputs": [
    {
     "name": "stdout",
     "output_type": "stream",
     "text": [
      "['Age 65 to 69' 'Age 70 to 74' 'Age 75 to 79' 'Age 80 or older'\n",
      " 'Age 50 to 54' 'Age 40 to 44' 'Age 60 to 64' 'Age 55 to 59'\n",
      " 'Age 45 to 49' 'Age 35 to 39' 'Age 25 to 29' 'Age 30 to 34'\n",
      " 'Age 18 to 24']\n"
     ]
    }
   ],
   "source": [
    "# Determine if 'AgeCategory' should be numeric or categorical feature \n",
    "print(df['AgeCategory'].unique())"
   ]
  },
  {
   "cell_type": "code",
   "execution_count": 62,
   "id": "139df827",
   "metadata": {
    "papermill": {
     "duration": 0.057731,
     "end_time": "2022-07-25T19:43:57.432944",
     "exception": false,
     "start_time": "2022-07-25T19:43:57.375213",
     "status": "completed"
    },
    "tags": []
   },
   "outputs": [
    {
     "name": "stdout",
     "output_type": "stream",
     "text": [
      "Numerical features:\n",
      " PhysicalHealthDays, MentalHealthDays, SleepHours, HeightInMeters, WeightInKilograms, BMI\n",
      "\n",
      "Categorical features:\n",
      " State, Sex, GeneralHealth, LastCheckupTime, PhysicalActivities, RemovedTeeth, HadHeartAttack, HadAngina, HadStroke, HadAsthma, HadSkinCancer, HadCOPD, HadDepressiveDisorder, HadKidneyDisease, HadArthritis, HadDiabetes, DeafOrHardOfHearing, BlindOrVisionDifficulty, DifficultyConcentrating, DifficultyWalking, DifficultyDressingBathing, DifficultyErrands, SmokerStatus, ECigaretteUsage, ChestScan, RaceEthnicityCategory, AgeCategory, AlcoholDrinkers, HIVTesting, FluVaxLast12, PneumoVaxEver, TetanusLast10Tdap, HighRiskLastYear, CovidPos\n",
      "\n"
     ]
    }
   ],
   "source": [
    "numerical_cols = list(df.select_dtypes(include=['float64']).columns)\n",
    "categorical_cols = list(df.select_dtypes(include=['object']).columns)\n",
    "\n",
    "\n",
    "print(f\"Numerical features:\\n {', '.join(numerical_cols)}\\n\")\n",
    "print(f\"Categorical features:\\n {', '.join(categorical_cols)}\\n\")"
   ]
  },
  {
   "cell_type": "code",
   "execution_count": 63,
   "id": "64be74b5",
   "metadata": {},
   "outputs": [
    {
     "name": "stdout",
     "output_type": "stream",
     "text": [
      "['State', 'Sex', 'GeneralHealth', 'LastCheckupTime', 'PhysicalActivities', 'RemovedTeeth', 'HadHeartAttack', 'HadAngina', 'HadStroke', 'HadAsthma', 'HadSkinCancer', 'HadCOPD', 'HadDepressiveDisorder', 'HadKidneyDisease', 'HadArthritis', 'HadDiabetes', 'DeafOrHardOfHearing', 'BlindOrVisionDifficulty', 'DifficultyConcentrating', 'DifficultyWalking', 'DifficultyDressingBathing', 'DifficultyErrands', 'SmokerStatus', 'ECigaretteUsage', 'ChestScan', 'RaceEthnicityCategory', 'AgeCategory', 'AlcoholDrinkers', 'HIVTesting', 'FluVaxLast12', 'PneumoVaxEver', 'TetanusLast10Tdap', 'HighRiskLastYear', 'CovidPos']\n"
     ]
    }
   ],
   "source": [
    "print(categorical_cols)"
   ]
  },
  {
   "cell_type": "code",
   "execution_count": 64,
   "id": "6b15c1b2",
   "metadata": {
    "papermill": {
     "duration": 0.343575,
     "end_time": "2022-07-25T19:43:57.782008",
     "exception": false,
     "start_time": "2022-07-25T19:43:57.438433",
     "status": "completed"
    },
    "tags": []
   },
   "outputs": [
    {
     "name": "stdout",
     "output_type": "stream",
     "text": [
      "State\n",
      "['Alabama' 'Alaska' 'Arizona' 'Arkansas' 'California' 'Colorado'\n",
      " 'Connecticut' 'Delaware' 'District of Columbia' 'Florida' 'Georgia'\n",
      " 'Hawaii' 'Idaho' 'Illinois' 'Indiana' 'Iowa' 'Kansas' 'Kentucky'\n",
      " 'Louisiana' 'Maine' 'Maryland' 'Massachusetts' 'Michigan' 'Minnesota'\n",
      " 'Mississippi' 'Missouri' 'Montana' 'Nebraska' 'Nevada' 'New Hampshire'\n",
      " 'New Jersey' 'New Mexico' 'New York' 'North Carolina' 'North Dakota'\n",
      " 'Ohio' 'Oklahoma' 'Oregon' 'Pennsylvania' 'Rhode Island' 'South Carolina'\n",
      " 'South Dakota' 'Tennessee' 'Texas' 'Utah' 'Vermont' 'Virginia'\n",
      " 'Washington' 'West Virginia' 'Wisconsin' 'Wyoming' 'Guam' 'Puerto Rico'\n",
      " 'Virgin Islands']\n",
      "Sex\n",
      "['Female' 'Male']\n",
      "GeneralHealth\n",
      "['Very good' 'Fair' 'Good' 'Excellent' 'Poor']\n",
      "LastCheckupTime\n",
      "['Within past year (anytime less than 12 months ago)'\n",
      " '5 or more years ago'\n",
      " 'Within past 2 years (1 year but less than 2 years ago)'\n",
      " 'Within past 5 years (2 years but less than 5 years ago)']\n",
      "PhysicalActivities\n",
      "['Yes' 'No']\n",
      "RemovedTeeth\n",
      "['None of them' '6 or more, but not all' '1 to 5' 'All']\n",
      "HadHeartAttack\n",
      "['No' 'Yes']\n",
      "HadAngina\n",
      "['No' 'Yes']\n",
      "HadStroke\n",
      "['No' 'Yes']\n",
      "HadAsthma\n",
      "['No' 'Yes']\n",
      "HadSkinCancer\n",
      "['No' 'Yes']\n",
      "HadCOPD\n",
      "['No' 'Yes']\n",
      "HadDepressiveDisorder\n",
      "['No' 'Yes']\n",
      "HadKidneyDisease\n",
      "['No' 'Yes']\n",
      "HadArthritis\n",
      "['Yes' 'No']\n",
      "HadDiabetes\n",
      "['No' 'Yes' 'Yes, but only during pregnancy (female)'\n",
      " 'No, pre-diabetes or borderline diabetes']\n",
      "DeafOrHardOfHearing\n",
      "['No' 'Yes']\n",
      "BlindOrVisionDifficulty\n",
      "['No' 'Yes']\n",
      "DifficultyConcentrating\n",
      "['No' 'Yes']\n",
      "DifficultyWalking\n",
      "['No' 'Yes']\n",
      "DifficultyDressingBathing\n",
      "['No' 'Yes']\n",
      "DifficultyErrands\n",
      "['No' 'Yes']\n",
      "SmokerStatus\n",
      "['Former smoker' 'Never smoked' 'Current smoker - now smokes every day'\n",
      " 'Current smoker - now smokes some days']\n",
      "ECigaretteUsage\n",
      "['Never used e-cigarettes in my entire life' 'Use them some days'\n",
      " 'Not at all (right now)' 'Use them every day']\n",
      "ChestScan\n",
      "['No' 'Yes']\n",
      "RaceEthnicityCategory\n",
      "['White only, Non-Hispanic' 'Black only, Non-Hispanic'\n",
      " 'Other race only, Non-Hispanic' 'Multiracial, Non-Hispanic' 'Hispanic']\n",
      "AgeCategory\n",
      "['Age 65 to 69' 'Age 70 to 74' 'Age 75 to 79' 'Age 80 or older'\n",
      " 'Age 50 to 54' 'Age 40 to 44' 'Age 60 to 64' 'Age 55 to 59'\n",
      " 'Age 45 to 49' 'Age 35 to 39' 'Age 25 to 29' 'Age 30 to 34'\n",
      " 'Age 18 to 24']\n",
      "AlcoholDrinkers\n",
      "['No' 'Yes']\n",
      "HIVTesting\n",
      "['No' 'Yes']\n",
      "FluVaxLast12\n",
      "['Yes' 'No']\n",
      "PneumoVaxEver\n",
      "['Yes' 'No']\n",
      "TetanusLast10Tdap\n",
      "['Yes, received Tdap' 'Yes, received tetanus shot but not sure what type'\n",
      " 'No, did not receive any tetanus shot in the past 10 years'\n",
      " 'Yes, received tetanus shot, but not Tdap']\n",
      "HighRiskLastYear\n",
      "['No' 'Yes']\n",
      "CovidPos\n",
      "['No' 'Yes'\n",
      " 'Tested positive using home test without a health professional']\n"
     ]
    }
   ],
   "source": [
    "# See unique categorical values \n",
    "\n",
    "categ_list = list(df[categorical_cols])\n",
    "for i in categ_list:\n",
    "    print(i)\n",
    "    print(df[i].unique())"
   ]
  },
  {
   "cell_type": "markdown",
   "id": "e1e65341",
   "metadata": {},
   "source": [
    "##### Variable Encoding"
   ]
  },
  {
   "cell_type": "code",
   "execution_count": 65,
   "id": "87ed1c05",
   "metadata": {},
   "outputs": [],
   "source": [
    "# Encode Yes/No values\n",
    "def encode_yes_no(value: str):\n",
    "    ### 1 == Yes.\n",
    "    if value.lower() == \"yes\":\n",
    "        return 1\n",
    "    ### 0 == No.\n",
    "    elif value.lower() == \"no\":\n",
    "        return 0\n",
    "    ### 2 == Else.\n",
    "    else:\n",
    "        return 2\n",
    "    \n",
    "df[\"HadHeartAttack\"] = df[\"HadHeartAttack\"].apply(lambda x: encode_yes_no(x))\n",
    "df_target = df[\"HadHeartAttack\"]\n",
    "\n",
    "df_categorical = df[df.select_dtypes(include=['object']).columns]\n",
    "\n",
    "# Drop old columns\n",
    "df.drop(columns = ['HadHeartAttack'], inplace = True)"
   ]
  },
  {
   "cell_type": "code",
   "execution_count": null,
   "id": "bde02d7d",
   "metadata": {},
   "outputs": [
    {
     "name": "stdout",
     "output_type": "stream",
     "text": [
      "  (0, 0)\t1.0\n",
      "  (0, 54)\t1.0\n",
      "  (0, 60)\t1.0\n",
      "  (0, 64)\t1.0\n",
      "  (0, 66)\t1.0\n",
      "  (0, 70)\t1.0\n",
      "  (0, 71)\t1.0\n",
      "  (0, 73)\t1.0\n",
      "  (0, 75)\t1.0\n",
      "  (0, 77)\t1.0\n",
      "  (0, 79)\t1.0\n",
      "  (0, 81)\t1.0\n",
      "  (0, 83)\t1.0\n",
      "  (0, 86)\t1.0\n",
      "  (0, 87)\t1.0\n",
      "  (0, 91)\t1.0\n",
      "  (0, 93)\t1.0\n",
      "  (0, 95)\t1.0\n",
      "  (0, 97)\t1.0\n",
      "  (0, 99)\t1.0\n",
      "  (0, 101)\t1.0\n",
      "  (0, 105)\t1.0\n",
      "  (0, 107)\t1.0\n",
      "  (0, 111)\t1.0\n",
      "  (0, 117)\t1.0\n",
      "  :\t:\n",
      "  (246021, 83)\t1.0\n",
      "  (246021, 85)\t1.0\n",
      "  (246021, 87)\t1.0\n",
      "  (246021, 91)\t1.0\n",
      "  (246021, 93)\t1.0\n",
      "  (246021, 95)\t1.0\n",
      "  (246021, 97)\t1.0\n",
      "  (246021, 99)\t1.0\n",
      "  (246021, 101)\t1.0\n",
      "  (246021, 106)\t1.0\n",
      "  (246021, 107)\t1.0\n",
      "  (246021, 112)\t1.0\n",
      "  (246021, 113)\t1.0\n",
      "  (246021, 128)\t1.0\n",
      "  (246021, 131)\t1.0\n",
      "  (246021, 134)\t1.0\n",
      "  (246021, 136)\t1.0\n",
      "  (246021, 138)\t1.0\n",
      "  (246021, 139)\t1.0\n",
      "  (246021, 143)\t1.0\n",
      "  (246021, 147)\t1.0\n",
      "  (246021, 150)\t5.0\n",
      "  (246021, 151)\t1.83\n",
      "  (246021, 152)\t108.86\n",
      "  (246021, 153)\t32.55\n"
     ]
    }
   ],
   "source": [
    "# Encode Categorical Variables \n",
    "from sklearn.preprocessing import OneHotEncoder\n",
    "from sklearn.compose import ColumnTransformer\n",
    "\n",
    "columnTransformer = ColumnTransformer([('encoder', OneHotEncoder(), df_categorical)], remainder='passthrough')\n",
    "x_encoded = columnTransformer.fit_transform(df)\n"
   ]
  },
  {
   "cell_type": "markdown",
   "id": "c664f197",
   "metadata": {},
   "source": [
    "##### Train-Test-Split the Data\n"
   ]
  },
  {
   "cell_type": "code",
   "execution_count": 83,
   "id": "bfe6d388",
   "metadata": {
    "papermill": {
     "duration": 0.133007,
     "end_time": "2022-07-25T19:44:01.973082",
     "exception": false,
     "start_time": "2022-07-25T19:44:01.840075",
     "status": "completed"
    },
    "tags": []
   },
   "outputs": [],
   "source": [
    "# Drop target variable\n",
    "xTrain, xTest, yTrain, yTest = tts(x_encoded, df_target, random_state=23)"
   ]
  },
  {
   "cell_type": "markdown",
   "id": "4abe2520",
   "metadata": {},
   "source": [
    "##### KNN"
   ]
  },
  {
   "cell_type": "code",
   "execution_count": 84,
   "id": "4760511f",
   "metadata": {},
   "outputs": [],
   "source": [
    "import numpy as np\n",
    "from sklearn.neighbors import KNeighborsClassifier\n",
    "\n",
    "# Create a KNN classifier\n",
    "knn = KNeighborsClassifier(n_neighbors=3)\n",
    "\n",
    "# Fit the classifier to the data\n",
    "knn.fit(xTrain, yTrain)\n",
    "\n",
    "# Make a prediction\n",
    "yPred = knn.predict(xTest)\n",
    "\n",
    "# Create and log MSE metrics using predictions of X_test and its actual value y_test\n",
    "from sklearn.metrics import mean_squared_error\n",
    "mse = mean_squared_error(yTest, yPred)\n",
    "print(\"MSE:\")\n",
    "print(f\"{mse}\")\n",
    "\n",
    "### View Confusion Matrix...\n",
    "from sklearn.metrics import confusion_matrix\n",
    "print(confusion_matrix(yTest, yPred))\n",
    "print(\"\\n\")\n",
    "\n",
    "### View Accuracy Score...\n",
    "from sklearn.metrics import accuracy_score\n",
    "print(\"Acccuracy Score:\")\n",
    "print(f\"{round(accuracy_score(yTest, yPred), 2)*100}%\")\n",
    "\n",
    "### View Precision Score...\n",
    "from sklearn.metrics import precision_score\n",
    "print(\"\\nPrecision Score:\")\n",
    "print(f\"{round(precision_score(yTest, yPred), 2)*100}%\")\n",
    "\n",
    "### View Recall Score...\n",
    "from sklearn.metrics import recall_score\n",
    "print(\"\\nRecall Score:\")\n",
    "print(f\"{round(recall_score(yTest, yPred), 2)*100}%\")\n",
    "\n",
    "from sklearn.metrics import f1_score\n",
    "print(\"\\nF1 Score:\")\n",
    "print(f\"{round(f1_score(yTest, yPred), 2)*100}%\")"
   ]
  },
  {
   "cell_type": "markdown",
   "id": "8dce5866",
   "metadata": {},
   "source": [
    "##### Try out RandomizedSearchCV with Random Forest Classifier"
   ]
  },
  {
   "cell_type": "code",
   "execution_count": null,
   "id": "40b7843b",
   "metadata": {
    "papermill": {
     "duration": 225.837394,
     "end_time": "2022-07-25T19:47:47.817655",
     "exception": false,
     "start_time": "2022-07-25T19:44:01.980261",
     "status": "completed"
    },
    "tags": []
   },
   "outputs": [],
   "source": [
    "# dictionary containing hyperparameter names and list of values we want to try\n",
    "parameters = {\"n_estimators\": randint(5, 100), \n",
    "              \"max_depth\": [3, 5, 7]}\n",
    "\n",
    "# Instantiate Model\n",
    "rf = RandomForestClassifier()\n",
    "grid_rf_model = RandomizedSearchCV(rf, parameters)\n",
    "\n",
    "# Train  Model\n",
    "grid_rf_model.fit(xTrain, yTrain)\n",
    "\n",
    "best_rf = grid_rf_model.best_estimator_\n",
    "for p in parameters:\n",
    "    print(f\"Best '{p}': {best_rf.get_params()[p]}\")"
   ]
  },
  {
   "cell_type": "code",
   "execution_count": null,
   "id": "dcb8a942",
   "metadata": {
    "papermill": {
     "duration": 0.665226,
     "end_time": "2022-07-25T19:47:48.490997",
     "exception": false,
     "start_time": "2022-07-25T19:47:47.825771",
     "status": "completed"
    },
    "tags": []
   },
   "outputs": [],
   "source": [
    "yPred = best_rf.predict(xTest)\n",
    "\n",
    "# Create and log MSE metrics using predictions of X_test and its actual value y_test\n",
    "from sklearn.metrics import mean_squared_error\n",
    "mse = mean_squared_error(yTest, yPred)\n",
    "print(\"MSE:\")\n",
    "print(f\"{mse}\")\n",
    "\n",
    "### View Confusion Matrix...\n",
    "from sklearn.metrics import confusion_matrix\n",
    "print(confusion_matrix(yTest, yPred))\n",
    "print(\"\\n\")\n",
    "\n",
    "### View Accuracy Score...\n",
    "from sklearn.metrics import accuracy_score\n",
    "print(\"Acccuracy Score:\")\n",
    "print(f\"{round(accuracy_score(yTest, yPred), 2)*100}%\")\n",
    "\n",
    "### View Precision Score...\n",
    "from sklearn.metrics import precision_score\n",
    "print(\"\\nPrecision Score:\")\n",
    "print(f\"{round(precision_score(yTest, yPred), 2)*100}%\")\n",
    "\n",
    "### View Recall Score...\n",
    "from sklearn.metrics import recall_score\n",
    "print(\"\\nRecall Score:\")\n",
    "print(f\"{round(recall_score(yTest, yPred), 2)*100}%\")\n",
    "\n",
    "from sklearn.metrics import f1_score\n",
    "print(\"\\nF1 Score:\")\n",
    "print(f\"{round(f1_score(yTest, yPred), 2)*100}%\")"
   ]
  },
  {
   "cell_type": "markdown",
   "id": "fffc2d79",
   "metadata": {},
   "source": [
    "##### XGBoost Modeling"
   ]
  },
  {
   "cell_type": "code",
   "execution_count": null,
   "id": "e72f110e",
   "metadata": {},
   "outputs": [],
   "source": [
    "import xgboost\n",
    "\n",
    "classifier = xgboost.XGBClassifier()\n",
    "\n",
    "classifier.fit(xTrain, yTrain)"
   ]
  },
  {
   "cell_type": "code",
   "execution_count": null,
   "id": "96c8949f",
   "metadata": {},
   "outputs": [],
   "source": [
    "# Get Predictions\n",
    "yPred = classifier.predict(xTest)\n",
    "\n",
    "# Create and log MSE metrics using predictions of X_test and its actual value y_test\n",
    "from sklearn.metrics import mean_squared_error\n",
    "mse = mean_squared_error(yTest, yPred)\n",
    "print(\"MSE:\")\n",
    "print(f\"{mse}\")\n",
    "\n",
    "### View Confusion Matrix...\n",
    "from sklearn.metrics import confusion_matrix\n",
    "print(confusion_matrix(yTest, yPred))\n",
    "print(\"\\n\")\n",
    "\n",
    "### View Accuracy Score...\n",
    "from sklearn.metrics import accuracy_score\n",
    "print(\"Acccuracy Score:\")\n",
    "print(f\"{round(accuracy_score(yTest, yPred), 2)*100}%\")\n",
    "\n",
    "### View Precision Score...\n",
    "from sklearn.metrics import precision_score\n",
    "print(\"\\nPrecision Score:\")\n",
    "print(f\"{round(precision_score(yTest, yPred), 2)*100}%\")\n",
    "\n",
    "### View Recall Score...\n",
    "from sklearn.metrics import recall_score\n",
    "print(\"\\nRecall Score:\")\n",
    "print(f\"{round(recall_score(yTest, yPred), 2)*100}%\")\n",
    "\n",
    "from sklearn.metrics import f1_score\n",
    "print(\"\\nF1 Score:\")\n",
    "print(f\"{round(f1_score(yTest, yPred), 2)*100}%\")"
   ]
  }
 ],
 "metadata": {
  "kernelspec": {
   "display_name": "Python 3 (ipykernel)",
   "language": "python",
   "name": "python3"
  },
  "language_info": {
   "codemirror_mode": {
    "name": "ipython",
    "version": 3
   },
   "file_extension": ".py",
   "mimetype": "text/x-python",
   "name": "python",
   "nbconvert_exporter": "python",
   "pygments_lexer": "ipython3",
   "version": "3.12.1"
  },
  "papermill": {
   "default_parameters": {},
   "duration": 245.735571,
   "end_time": "2022-07-25T19:47:49.220003",
   "environment_variables": {},
   "exception": null,
   "input_path": "__notebook__.ipynb",
   "output_path": "__notebook__.ipynb",
   "parameters": {},
   "start_time": "2022-07-25T19:43:43.484432",
   "version": "2.3.4"
  }
 },
 "nbformat": 4,
 "nbformat_minor": 5
}
