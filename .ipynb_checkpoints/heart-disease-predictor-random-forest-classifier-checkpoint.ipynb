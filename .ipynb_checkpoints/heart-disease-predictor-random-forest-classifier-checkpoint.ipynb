{
 "cells": [
  {
   "cell_type": "markdown",
   "id": "6ae5790e",
   "metadata": {
    "papermill": {
     "duration": 0.005728,
     "end_time": "2022-07-25T19:43:53.921066",
     "exception": false,
     "start_time": "2022-07-25T19:43:53.915338",
     "status": "completed"
    },
    "tags": []
   },
   "source": [
    "# Heart Disease Predictor - Random Forest Classifier vs. XGBoost"
   ]
  },
  {
   "cell_type": "markdown",
   "id": "7a5d19ca",
   "metadata": {
    "papermill": {
     "duration": 0.004407,
     "end_time": "2022-07-25T19:43:53.930386",
     "exception": false,
     "start_time": "2022-07-25T19:43:53.925979",
     "status": "completed"
    },
    "tags": []
   },
   "source": [
    "This project takes a cleaned dataset containing key indicators of heart disease. It uses a Random Forest classifier with randomized search for hyperparameter tuning and compares performance to XGBoost classifier."
   ]
  },
  {
   "cell_type": "code",
   "execution_count": 1,
   "id": "8739850a",
   "metadata": {
    "execution": {
     "iopub.execute_input": "2022-07-25T19:43:53.941894Z",
     "iopub.status.busy": "2022-07-25T19:43:53.941335Z",
     "iopub.status.idle": "2022-07-25T19:43:55.388782Z",
     "shell.execute_reply": "2022-07-25T19:43:55.387549Z"
    },
    "papermill": {
     "duration": 1.456679,
     "end_time": "2022-07-25T19:43:55.391723",
     "exception": false,
     "start_time": "2022-07-25T19:43:53.935044",
     "status": "completed"
    },
    "tags": []
   },
   "outputs": [],
   "source": [
    "# Load in libraries\n",
    "\n",
    "from sklearn.model_selection import train_test_split as tts\n",
    "import pandas as pd\n",
    "\n",
    "from sklearn.ensemble import RandomForestClassifier\n",
    "from sklearn.model_selection import RandomizedSearchCV\n",
    "from scipy.stats import randint"
   ]
  },
  {
   "cell_type": "markdown",
   "id": "b1f8d5e8",
   "metadata": {},
   "source": [
    "##### EDA"
   ]
  },
  {
   "cell_type": "code",
   "execution_count": 2,
   "id": "87c93a69",
   "metadata": {
    "execution": {
     "iopub.execute_input": "2022-07-25T19:43:55.402994Z",
     "iopub.status.busy": "2022-07-25T19:43:55.402628Z",
     "iopub.status.idle": "2022-07-25T19:43:56.851937Z",
     "shell.execute_reply": "2022-07-25T19:43:56.850616Z"
    },
    "papermill": {
     "duration": 1.458625,
     "end_time": "2022-07-25T19:43:56.855326",
     "exception": false,
     "start_time": "2022-07-25T19:43:55.396701",
     "status": "completed"
    },
    "tags": []
   },
   "outputs": [
    {
     "name": "stdout",
     "output_type": "stream",
     "text": [
      "<class 'pandas.core.frame.DataFrame'>\n",
      "RangeIndex: 319795 entries, 0 to 319794\n",
      "Data columns (total 18 columns):\n",
      " #   Column            Non-Null Count   Dtype  \n",
      "---  ------            --------------   -----  \n",
      " 0   HeartDisease      319795 non-null  object \n",
      " 1   BMI               319795 non-null  float64\n",
      " 2   Smoking           319795 non-null  object \n",
      " 3   AlcoholDrinking   319795 non-null  object \n",
      " 4   Stroke            319795 non-null  object \n",
      " 5   PhysicalHealth    319795 non-null  float64\n",
      " 6   MentalHealth      319795 non-null  float64\n",
      " 7   DiffWalking       319795 non-null  object \n",
      " 8   Sex               319795 non-null  object \n",
      " 9   AgeCategory       319795 non-null  object \n",
      " 10  Race              319795 non-null  object \n",
      " 11  Diabetic          319795 non-null  object \n",
      " 12  PhysicalActivity  319795 non-null  object \n",
      " 13  GenHealth         319795 non-null  object \n",
      " 14  SleepTime         319795 non-null  float64\n",
      " 15  Asthma            319795 non-null  object \n",
      " 16  KidneyDisease     319795 non-null  object \n",
      " 17  SkinCancer        319795 non-null  object \n",
      "dtypes: float64(4), object(14)\n",
      "memory usage: 43.9+ MB\n"
     ]
    }
   ],
   "source": [
    "# Pull in heart disease dataset from Kaggle\n",
    "### Get 2020 dataset: https://www.kaggle.com/datasets/kamilpytlak/personal-key-indicators-of-heart-disease\n",
    "df = pd.read_csv(\"heart_2020_cleaned.csv\")\n",
    "df.head()\n",
    "df.info()"
   ]
  },
  {
   "cell_type": "code",
   "execution_count": 3,
   "id": "ec35e80d",
   "metadata": {
    "execution": {
     "iopub.execute_input": "2022-07-25T19:43:56.867035Z",
     "iopub.status.busy": "2022-07-25T19:43:56.866663Z",
     "iopub.status.idle": "2022-07-25T19:43:56.929690Z",
     "shell.execute_reply": "2022-07-25T19:43:56.928545Z"
    },
    "papermill": {
     "duration": 0.072136,
     "end_time": "2022-07-25T19:43:56.932566",
     "exception": false,
     "start_time": "2022-07-25T19:43:56.860430",
     "status": "completed"
    },
    "tags": []
   },
   "outputs": [
    {
     "data": {
      "text/plain": [
       "No     0.914405\n",
       "Yes    0.085595\n",
       "Name: HeartDisease, dtype: float64"
      ]
     },
     "execution_count": 3,
     "metadata": {},
     "output_type": "execute_result"
    }
   ],
   "source": [
    "ycol = [\"HeartDisease\"]\n",
    "df['HeartDisease'].value_counts(normalize=True)"
   ]
  },
  {
   "cell_type": "code",
   "execution_count": 4,
   "id": "00d851d9",
   "metadata": {
    "execution": {
     "iopub.execute_input": "2022-07-25T19:43:56.945366Z",
     "iopub.status.busy": "2022-07-25T19:43:56.944263Z",
     "iopub.status.idle": "2022-07-25T19:43:57.320660Z",
     "shell.execute_reply": "2022-07-25T19:43:57.319215Z"
    },
    "papermill": {
     "duration": 0.385369,
     "end_time": "2022-07-25T19:43:57.323336",
     "exception": false,
     "start_time": "2022-07-25T19:43:56.937967",
     "status": "completed"
    },
    "tags": []
   },
   "outputs": [
    {
     "data": {
      "text/html": [
       "<div>\n",
       "<style scoped>\n",
       "    .dataframe tbody tr th:only-of-type {\n",
       "        vertical-align: middle;\n",
       "    }\n",
       "\n",
       "    .dataframe tbody tr th {\n",
       "        vertical-align: top;\n",
       "    }\n",
       "\n",
       "    .dataframe thead th {\n",
       "        text-align: right;\n",
       "    }\n",
       "</style>\n",
       "<table border=\"1\" class=\"dataframe\">\n",
       "  <thead>\n",
       "    <tr style=\"text-align: right;\">\n",
       "      <th></th>\n",
       "      <th>HeartDisease</th>\n",
       "      <th>Smoking</th>\n",
       "      <th>AlcoholDrinking</th>\n",
       "      <th>Stroke</th>\n",
       "      <th>DiffWalking</th>\n",
       "      <th>Sex</th>\n",
       "      <th>AgeCategory</th>\n",
       "      <th>Race</th>\n",
       "      <th>Diabetic</th>\n",
       "      <th>PhysicalActivity</th>\n",
       "      <th>GenHealth</th>\n",
       "      <th>Asthma</th>\n",
       "      <th>KidneyDisease</th>\n",
       "      <th>SkinCancer</th>\n",
       "    </tr>\n",
       "  </thead>\n",
       "  <tbody>\n",
       "    <tr>\n",
       "      <th>0</th>\n",
       "      <td>2</td>\n",
       "      <td>2</td>\n",
       "      <td>2</td>\n",
       "      <td>2</td>\n",
       "      <td>2</td>\n",
       "      <td>2</td>\n",
       "      <td>13</td>\n",
       "      <td>6</td>\n",
       "      <td>4</td>\n",
       "      <td>2</td>\n",
       "      <td>5</td>\n",
       "      <td>2</td>\n",
       "      <td>2</td>\n",
       "      <td>2</td>\n",
       "    </tr>\n",
       "  </tbody>\n",
       "</table>\n",
       "</div>"
      ],
      "text/plain": [
       "   HeartDisease  Smoking  AlcoholDrinking  Stroke  DiffWalking  Sex  \\\n",
       "0             2        2                2       2            2    2   \n",
       "\n",
       "   AgeCategory  Race  Diabetic  PhysicalActivity  GenHealth  Asthma  \\\n",
       "0           13     6         4                 2          5       2   \n",
       "\n",
       "   KidneyDisease  SkinCancer  \n",
       "0              2           2  "
      ]
     },
     "metadata": {},
     "output_type": "display_data"
    }
   ],
   "source": [
    "# Count of unique values\n",
    "display(pd.DataFrame(df.select_dtypes(include=['O']).nunique()).T)"
   ]
  },
  {
   "cell_type": "code",
   "execution_count": 5,
   "id": "7055de93",
   "metadata": {
    "execution": {
     "iopub.execute_input": "2022-07-25T19:43:57.337078Z",
     "iopub.status.busy": "2022-07-25T19:43:57.335773Z",
     "iopub.status.idle": "2022-07-25T19:43:57.366875Z",
     "shell.execute_reply": "2022-07-25T19:43:57.365605Z"
    },
    "papermill": {
     "duration": 0.040847,
     "end_time": "2022-07-25T19:43:57.369790",
     "exception": false,
     "start_time": "2022-07-25T19:43:57.328943",
     "status": "completed"
    },
    "tags": []
   },
   "outputs": [
    {
     "name": "stdout",
     "output_type": "stream",
     "text": [
      "['55-59' '80 or older' '65-69' '75-79' '40-44' '70-74' '60-64' '50-54'\n",
      " '45-49' '18-24' '35-39' '30-34' '25-29']\n"
     ]
    }
   ],
   "source": [
    "# Determine if 'AgeCategory' should be numeric or categorical feature \n",
    "print(df['AgeCategory'].unique())"
   ]
  },
  {
   "cell_type": "code",
   "execution_count": 6,
   "id": "139df827",
   "metadata": {
    "execution": {
     "iopub.execute_input": "2022-07-25T19:43:57.382251Z",
     "iopub.status.busy": "2022-07-25T19:43:57.381826Z",
     "iopub.status.idle": "2022-07-25T19:43:57.430491Z",
     "shell.execute_reply": "2022-07-25T19:43:57.429351Z"
    },
    "papermill": {
     "duration": 0.057731,
     "end_time": "2022-07-25T19:43:57.432944",
     "exception": false,
     "start_time": "2022-07-25T19:43:57.375213",
     "status": "completed"
    },
    "tags": []
   },
   "outputs": [
    {
     "name": "stdout",
     "output_type": "stream",
     "text": [
      "Numerical features:\n",
      " BMI, PhysicalHealth, MentalHealth, SleepTime, AgeCategory\n",
      "\n",
      "Categorical features:\n",
      " HeartDisease, Smoking, AlcoholDrinking, Stroke, DiffWalking, Sex, Race, Diabetic, PhysicalActivity, GenHealth, Asthma, KidneyDisease, SkinCancer\n",
      "\n"
     ]
    }
   ],
   "source": [
    "numerical_cols = list(df.select_dtypes(include=['float64', 'int64']).columns)\n",
    "categorical_cols = list(df.select_dtypes(include=['object']).columns)\n",
    "\n",
    "# Age acts more like a numeric feature\n",
    "categorical_cols.remove('AgeCategory')\n",
    "numerical_cols.append('AgeCategory')\n",
    "\n",
    "print(f\"Numerical features:\\n {', '.join(numerical_cols)}\\n\")\n",
    "print(f\"Categorical features:\\n {', '.join(categorical_cols)}\\n\")"
   ]
  },
  {
   "cell_type": "code",
   "execution_count": 7,
   "id": "6b15c1b2",
   "metadata": {
    "execution": {
     "iopub.execute_input": "2022-07-25T19:43:57.445630Z",
     "iopub.status.busy": "2022-07-25T19:43:57.445190Z",
     "iopub.status.idle": "2022-07-25T19:43:57.779337Z",
     "shell.execute_reply": "2022-07-25T19:43:57.777605Z"
    },
    "papermill": {
     "duration": 0.343575,
     "end_time": "2022-07-25T19:43:57.782008",
     "exception": false,
     "start_time": "2022-07-25T19:43:57.438433",
     "status": "completed"
    },
    "tags": []
   },
   "outputs": [
    {
     "name": "stdout",
     "output_type": "stream",
     "text": [
      "HeartDisease\n",
      "['No' 'Yes']\n",
      "Smoking\n",
      "['Yes' 'No']\n",
      "AlcoholDrinking\n",
      "['No' 'Yes']\n",
      "Stroke\n",
      "['No' 'Yes']\n",
      "DiffWalking\n",
      "['No' 'Yes']\n",
      "Sex\n",
      "['Female' 'Male']\n",
      "Race\n",
      "['White' 'Black' 'Asian' 'American Indian/Alaskan Native' 'Other'\n",
      " 'Hispanic']\n",
      "Diabetic\n",
      "['Yes' 'No' 'No, borderline diabetes' 'Yes (during pregnancy)']\n",
      "PhysicalActivity\n",
      "['Yes' 'No']\n",
      "GenHealth\n",
      "['Very good' 'Fair' 'Good' 'Poor' 'Excellent']\n",
      "Asthma\n",
      "['Yes' 'No']\n",
      "KidneyDisease\n",
      "['No' 'Yes']\n",
      "SkinCancer\n",
      "['Yes' 'No']\n"
     ]
    }
   ],
   "source": [
    "# See unique categorical values \n",
    "\n",
    "categ_list = list(df[categorical_cols])\n",
    "for i in categ_list:\n",
    "    print(i)\n",
    "    print(df[i].unique())"
   ]
  },
  {
   "cell_type": "markdown",
   "id": "9c598de2",
   "metadata": {},
   "source": [
    "##### Variable Encoding"
   ]
  },
  {
   "cell_type": "code",
   "execution_count": 8,
   "id": "82a72513",
   "metadata": {
    "execution": {
     "iopub.execute_input": "2022-07-25T19:43:57.795583Z",
     "iopub.status.busy": "2022-07-25T19:43:57.794752Z",
     "iopub.status.idle": "2022-07-25T19:43:58.086997Z",
     "shell.execute_reply": "2022-07-25T19:43:58.085544Z"
    },
    "papermill": {
     "duration": 0.302397,
     "end_time": "2022-07-25T19:43:58.090165",
     "exception": false,
     "start_time": "2022-07-25T19:43:57.787768",
     "status": "completed"
    },
    "tags": []
   },
   "outputs": [
    {
     "name": "stdout",
     "output_type": "stream",
     "text": [
      "[55 80 65 75 40 70 60 50 45 18 35 30 25]\n"
     ]
    }
   ],
   "source": [
    "# Change age to numerical values\n",
    "df['AgeCategory'] = df['AgeCategory'].apply(lambda x : int(x[:2]))\n",
    "print(df['AgeCategory'].unique())"
   ]
  },
  {
   "cell_type": "code",
   "execution_count": 9,
   "id": "23f890f7",
   "metadata": {
    "execution": {
     "iopub.execute_input": "2022-07-25T19:43:58.104333Z",
     "iopub.status.busy": "2022-07-25T19:43:58.103940Z",
     "iopub.status.idle": "2022-07-25T19:44:01.795307Z",
     "shell.execute_reply": "2022-07-25T19:44:01.793780Z"
    },
    "papermill": {
     "duration": 3.702024,
     "end_time": "2022-07-25T19:44:01.798294",
     "exception": false,
     "start_time": "2022-07-25T19:43:58.096270",
     "status": "completed"
    },
    "tags": []
   },
   "outputs": [],
   "source": [
    "# Encode Yes/No values\n",
    "def integer_encode_yes_no(value: str):\n",
    "    ### 1 == Yes.\n",
    "    if value.lower() == \"yes\":\n",
    "        return 1\n",
    "    ### 0 == No.\n",
    "    elif value.lower() == \"no\":\n",
    "        return 0\n",
    "    ### 2 == Else.\n",
    "    else:\n",
    "        return 2\n",
    "    \n",
    "# Apply a function along a dataframe axis\n",
    "df[\"HeartDisease\"] = df[\"HeartDisease\"].apply(lambda x: integer_encode_yes_no(x))\n",
    "df[\"Smoking\"] = df[\"Smoking\"].apply(lambda x: integer_encode_yes_no(x))\n",
    "df[\"AlcoholDrinking\"] = df[\"AlcoholDrinking\"].apply(lambda x: integer_encode_yes_no(x))\n",
    "df[\"DiffWalking\"] = df[\"DiffWalking\"].apply(lambda x: integer_encode_yes_no(x))\n",
    "df[\"Diabetic\"] = df[\"Diabetic\"].apply(lambda x: integer_encode_yes_no(x))\n",
    "df[\"PhysicalActivity\"] = df[\"PhysicalActivity\"].apply(lambda x: integer_encode_yes_no(x))\n",
    "df[\"Asthma\"] = df[\"Asthma\"].apply(lambda x: integer_encode_yes_no(x))\n",
    "df[\"KidneyDisease\"] = df[\"KidneyDisease\"].apply(lambda x: integer_encode_yes_no(x))\n",
    "df[\"SkinCancer\"] = df[\"SkinCancer\"].apply(lambda x: integer_encode_yes_no(x))\n",
    "df[\"Stroke\"] = df[\"Stroke\"].apply(lambda x: integer_encode_yes_no(x))\n",
    "\n",
    "# Encode Sex Values\n",
    "def integer_encode_sex_values(value: str):\n",
    "    ### 1 === Male.\n",
    "    if value.lower() == \"male\":\n",
    "        return 1\n",
    "    ### 0 == Female.\n",
    "    elif value.lower() == \"female\":\n",
    "        return 0\n",
    "    ### 2 == Else.\n",
    "    else:\n",
    "        return 2\n",
    "\n",
    "df[\"Sex\"] = df[\"Sex\"].apply(lambda x: integer_encode_sex_values(x))\n",
    "\n",
    "\n",
    "\n",
    "# Encode Race Values\n",
    "def integer_encode_race_values(value: str):\n",
    "    ### 0 if White...\n",
    "    if value == \"White\":\n",
    "        return 0\n",
    "    ### 1 if Hispanic...\n",
    "    elif value == \"Hispanic\":\n",
    "        return 1\n",
    "    ### 2 if Black...\n",
    "    elif value == \"Black\":\n",
    "        return 2\n",
    "    ### 3 if Other...\n",
    "    elif value == \"Other\":\n",
    "        return 3\n",
    "    ### 4 if Asian...\n",
    "    elif value == \"Asian\":\n",
    "        return 4\n",
    "    ### 5 if American Indian/Alaskan Native\n",
    "    elif value == \"American Indian/Alaskan Native\":\n",
    "        return 5\n",
    "    ### 99 if Else...\n",
    "    else:\n",
    "        return 99\n",
    "df[\"Race\"] = df[\"Race\"].apply(lambda x: integer_encode_race_values(x))\n",
    "\n",
    "# Encode health values\n",
    "def integer_encode_health_values(value: str):\n",
    "    ### 0 if Very good...\n",
    "    if value == \"Very good\":\n",
    "        return 0\n",
    "    ### 1 if Good...\n",
    "    elif value == \"Good\":\n",
    "        return 1\n",
    "    ### 2 if Excellent...\n",
    "    elif value == \"Excellent\":\n",
    "        return 2\n",
    "    ### 3 if Fair...\n",
    "    elif value == \"Fair\":\n",
    "        return 3\n",
    "    ### 4 if Poor...\n",
    "    elif value == \"Poor\":\n",
    "        return 4\n",
    "    ### 99 if Else...\n",
    "    else:\n",
    "        return 99\n",
    "df[\"GenHealth\"] = df[\"GenHealth\"].apply(lambda x: integer_encode_health_values(x))"
   ]
  },
  {
   "cell_type": "code",
   "execution_count": 10,
   "id": "4188683f",
   "metadata": {
    "execution": {
     "iopub.execute_input": "2022-07-25T19:44:01.812230Z",
     "iopub.status.busy": "2022-07-25T19:44:01.811828Z",
     "iopub.status.idle": "2022-07-25T19:44:01.830987Z",
     "shell.execute_reply": "2022-07-25T19:44:01.829858Z"
    },
    "papermill": {
     "duration": 0.029536,
     "end_time": "2022-07-25T19:44:01.833864",
     "exception": false,
     "start_time": "2022-07-25T19:44:01.804328",
     "status": "completed"
    },
    "tags": []
   },
   "outputs": [
    {
     "data": {
      "text/html": [
       "<div>\n",
       "<style scoped>\n",
       "    .dataframe tbody tr th:only-of-type {\n",
       "        vertical-align: middle;\n",
       "    }\n",
       "\n",
       "    .dataframe tbody tr th {\n",
       "        vertical-align: top;\n",
       "    }\n",
       "\n",
       "    .dataframe thead th {\n",
       "        text-align: right;\n",
       "    }\n",
       "</style>\n",
       "<table border=\"1\" class=\"dataframe\">\n",
       "  <thead>\n",
       "    <tr style=\"text-align: right;\">\n",
       "      <th></th>\n",
       "      <th>HeartDisease</th>\n",
       "      <th>BMI</th>\n",
       "      <th>Smoking</th>\n",
       "      <th>AlcoholDrinking</th>\n",
       "      <th>Stroke</th>\n",
       "      <th>PhysicalHealth</th>\n",
       "      <th>MentalHealth</th>\n",
       "      <th>DiffWalking</th>\n",
       "      <th>Sex</th>\n",
       "      <th>AgeCategory</th>\n",
       "      <th>Race</th>\n",
       "      <th>Diabetic</th>\n",
       "      <th>PhysicalActivity</th>\n",
       "      <th>GenHealth</th>\n",
       "      <th>SleepTime</th>\n",
       "      <th>Asthma</th>\n",
       "      <th>KidneyDisease</th>\n",
       "      <th>SkinCancer</th>\n",
       "    </tr>\n",
       "  </thead>\n",
       "  <tbody>\n",
       "    <tr>\n",
       "      <th>0</th>\n",
       "      <td>0</td>\n",
       "      <td>16.60</td>\n",
       "      <td>1</td>\n",
       "      <td>0</td>\n",
       "      <td>0</td>\n",
       "      <td>3.0</td>\n",
       "      <td>30.0</td>\n",
       "      <td>0</td>\n",
       "      <td>0</td>\n",
       "      <td>55</td>\n",
       "      <td>0</td>\n",
       "      <td>1</td>\n",
       "      <td>1</td>\n",
       "      <td>0</td>\n",
       "      <td>5.0</td>\n",
       "      <td>1</td>\n",
       "      <td>0</td>\n",
       "      <td>1</td>\n",
       "    </tr>\n",
       "    <tr>\n",
       "      <th>1</th>\n",
       "      <td>0</td>\n",
       "      <td>20.34</td>\n",
       "      <td>0</td>\n",
       "      <td>0</td>\n",
       "      <td>1</td>\n",
       "      <td>0.0</td>\n",
       "      <td>0.0</td>\n",
       "      <td>0</td>\n",
       "      <td>0</td>\n",
       "      <td>80</td>\n",
       "      <td>0</td>\n",
       "      <td>0</td>\n",
       "      <td>1</td>\n",
       "      <td>0</td>\n",
       "      <td>7.0</td>\n",
       "      <td>0</td>\n",
       "      <td>0</td>\n",
       "      <td>0</td>\n",
       "    </tr>\n",
       "    <tr>\n",
       "      <th>2</th>\n",
       "      <td>0</td>\n",
       "      <td>26.58</td>\n",
       "      <td>1</td>\n",
       "      <td>0</td>\n",
       "      <td>0</td>\n",
       "      <td>20.0</td>\n",
       "      <td>30.0</td>\n",
       "      <td>0</td>\n",
       "      <td>1</td>\n",
       "      <td>65</td>\n",
       "      <td>0</td>\n",
       "      <td>1</td>\n",
       "      <td>1</td>\n",
       "      <td>3</td>\n",
       "      <td>8.0</td>\n",
       "      <td>1</td>\n",
       "      <td>0</td>\n",
       "      <td>0</td>\n",
       "    </tr>\n",
       "    <tr>\n",
       "      <th>3</th>\n",
       "      <td>0</td>\n",
       "      <td>24.21</td>\n",
       "      <td>0</td>\n",
       "      <td>0</td>\n",
       "      <td>0</td>\n",
       "      <td>0.0</td>\n",
       "      <td>0.0</td>\n",
       "      <td>0</td>\n",
       "      <td>0</td>\n",
       "      <td>75</td>\n",
       "      <td>0</td>\n",
       "      <td>0</td>\n",
       "      <td>0</td>\n",
       "      <td>1</td>\n",
       "      <td>6.0</td>\n",
       "      <td>0</td>\n",
       "      <td>0</td>\n",
       "      <td>1</td>\n",
       "    </tr>\n",
       "    <tr>\n",
       "      <th>4</th>\n",
       "      <td>0</td>\n",
       "      <td>23.71</td>\n",
       "      <td>0</td>\n",
       "      <td>0</td>\n",
       "      <td>0</td>\n",
       "      <td>28.0</td>\n",
       "      <td>0.0</td>\n",
       "      <td>1</td>\n",
       "      <td>0</td>\n",
       "      <td>40</td>\n",
       "      <td>0</td>\n",
       "      <td>0</td>\n",
       "      <td>1</td>\n",
       "      <td>0</td>\n",
       "      <td>8.0</td>\n",
       "      <td>0</td>\n",
       "      <td>0</td>\n",
       "      <td>0</td>\n",
       "    </tr>\n",
       "  </tbody>\n",
       "</table>\n",
       "</div>"
      ],
      "text/plain": [
       "   HeartDisease    BMI  Smoking  AlcoholDrinking  Stroke  PhysicalHealth  \\\n",
       "0             0  16.60        1                0       0             3.0   \n",
       "1             0  20.34        0                0       1             0.0   \n",
       "2             0  26.58        1                0       0            20.0   \n",
       "3             0  24.21        0                0       0             0.0   \n",
       "4             0  23.71        0                0       0            28.0   \n",
       "\n",
       "   MentalHealth  DiffWalking  Sex  AgeCategory  Race  Diabetic  \\\n",
       "0          30.0            0    0           55     0         1   \n",
       "1           0.0            0    0           80     0         0   \n",
       "2          30.0            0    1           65     0         1   \n",
       "3           0.0            0    0           75     0         0   \n",
       "4           0.0            1    0           40     0         0   \n",
       "\n",
       "   PhysicalActivity  GenHealth  SleepTime  Asthma  KidneyDisease  SkinCancer  \n",
       "0                 1          0        5.0       1              0           1  \n",
       "1                 1          0        7.0       0              0           0  \n",
       "2                 1          3        8.0       1              0           0  \n",
       "3                 0          1        6.0       0              0           1  \n",
       "4                 1          0        8.0       0              0           0  "
      ]
     },
     "execution_count": 10,
     "metadata": {},
     "output_type": "execute_result"
    }
   ],
   "source": [
    "# Verify encoding\n",
    "df.head()"
   ]
  },
  {
   "cell_type": "markdown",
   "id": "e6d69285",
   "metadata": {},
   "source": [
    "##### Train-Test-Split the Data\n"
   ]
  },
  {
   "cell_type": "code",
   "execution_count": 11,
   "id": "bfe6d388",
   "metadata": {
    "execution": {
     "iopub.execute_input": "2022-07-25T19:44:01.848103Z",
     "iopub.status.busy": "2022-07-25T19:44:01.847717Z",
     "iopub.status.idle": "2022-07-25T19:44:01.970162Z",
     "shell.execute_reply": "2022-07-25T19:44:01.968809Z"
    },
    "papermill": {
     "duration": 0.133007,
     "end_time": "2022-07-25T19:44:01.973082",
     "exception": false,
     "start_time": "2022-07-25T19:44:01.840075",
     "status": "completed"
    },
    "tags": []
   },
   "outputs": [],
   "source": [
    "# Drop target variable\n",
    "xTrain, xTest, yTrain, yTest = tts(df.drop([\"HeartDisease\"], axis=1), df[\"HeartDisease\"], random_state=23)"
   ]
  },
  {
   "cell_type": "markdown",
   "id": "a68cc7f8",
   "metadata": {},
   "source": [
    "##### Try out RandomizedSearchCV with Random Forest Classifier"
   ]
  },
  {
   "cell_type": "code",
   "execution_count": 12,
   "id": "40b7843b",
   "metadata": {
    "execution": {
     "iopub.execute_input": "2022-07-25T19:44:01.988546Z",
     "iopub.status.busy": "2022-07-25T19:44:01.988115Z",
     "iopub.status.idle": "2022-07-25T19:47:47.807075Z",
     "shell.execute_reply": "2022-07-25T19:47:47.805923Z"
    },
    "papermill": {
     "duration": 225.837394,
     "end_time": "2022-07-25T19:47:47.817655",
     "exception": false,
     "start_time": "2022-07-25T19:44:01.980261",
     "status": "completed"
    },
    "tags": []
   },
   "outputs": [
    {
     "name": "stdout",
     "output_type": "stream",
     "text": [
      "Best 'n_estimators': 35\n",
      "Best 'max_depth': 7\n"
     ]
    }
   ],
   "source": [
    "# dictionary containing hyperparameter names and list of values we want to try\n",
    "parameters = {\"n_estimators\": randint(5, 100), \n",
    "              \"max_depth\": [3, 5, 7]}\n",
    "\n",
    "# Instantiate Model\n",
    "rf = RandomForestClassifier()\n",
    "grid_rf_model = RandomizedSearchCV(rf, parameters)\n",
    "\n",
    "# Train  Model\n",
    "grid_rf_model.fit(xTrain, yTrain)\n",
    "\n",
    "best_rf = grid_rf_model.best_estimator_\n",
    "for p in parameters:\n",
    "    print(f\"Best '{p}': {best_rf.get_params()[p]}\")"
   ]
  },
  {
   "cell_type": "code",
   "execution_count": 13,
   "id": "dcb8a942",
   "metadata": {
    "execution": {
     "iopub.execute_input": "2022-07-25T19:47:47.835201Z",
     "iopub.status.busy": "2022-07-25T19:47:47.834613Z",
     "iopub.status.idle": "2022-07-25T19:47:48.488270Z",
     "shell.execute_reply": "2022-07-25T19:47:48.486842Z"
    },
    "papermill": {
     "duration": 0.665226,
     "end_time": "2022-07-25T19:47:48.490997",
     "exception": false,
     "start_time": "2022-07-25T19:47:47.825771",
     "status": "completed"
    },
    "tags": []
   },
   "outputs": [
    {
     "name": "stdout",
     "output_type": "stream",
     "text": [
      "MSE:\n",
      "0.08275275488123679\n",
      "[[73147    94]\n",
      " [ 6522   186]]\n",
      "\n",
      "\n",
      "Acccuracy Score:\n",
      "92.0%\n",
      "\n",
      "Precision Score:\n",
      "66.0%\n",
      "\n",
      "Recall Score:\n",
      "3.0%\n",
      "\n",
      "F1 Score:\n",
      "5.0%\n"
     ]
    }
   ],
   "source": [
    "yPred = best_rf.predict(xTest)\n",
    "\n",
    "# Create and log MSE metrics using predictions of X_test and its actual value y_test\n",
    "from sklearn.metrics import mean_squared_error\n",
    "mse = mean_squared_error(yTest, yPred)\n",
    "print(\"MSE:\")\n",
    "print(f\"{mse}\")\n",
    "\n",
    "### View Confusion Matrix...\n",
    "from sklearn.metrics import confusion_matrix\n",
    "print(confusion_matrix(yTest, yPred))\n",
    "print(\"\\n\")\n",
    "\n",
    "### View Accuracy Score...\n",
    "from sklearn.metrics import accuracy_score\n",
    "print(\"Acccuracy Score:\")\n",
    "print(f\"{round(accuracy_score(yTest, yPred), 2)*100}%\")\n",
    "\n",
    "### View Precision Score...\n",
    "from sklearn.metrics import precision_score\n",
    "print(\"\\nPrecision Score:\")\n",
    "print(f\"{round(precision_score(yTest, yPred), 2)*100}%\")\n",
    "\n",
    "### View Recall Score...\n",
    "from sklearn.metrics import recall_score\n",
    "print(\"\\nRecall Score:\")\n",
    "print(f\"{round(recall_score(yTest, yPred), 2)*100}%\")\n",
    "\n",
    "from sklearn.metrics import f1_score\n",
    "print(\"\\nF1 Score:\")\n",
    "print(f\"{round(f1_score(yTest, yPred), 2)*100}%\")"
   ]
  },
  {
   "cell_type": "markdown",
   "id": "d8dd37d8",
   "metadata": {},
   "source": [
    "##### XGBoost Modeling"
   ]
  },
  {
   "cell_type": "code",
   "execution_count": 14,
   "id": "38e6efcc",
   "metadata": {},
   "outputs": [
    {
     "data": {
      "text/plain": [
       "XGBClassifier(base_score=0.5, booster='gbtree', callbacks=None,\n",
       "              colsample_bylevel=1, colsample_bynode=1, colsample_bytree=1,\n",
       "              early_stopping_rounds=None, enable_categorical=False,\n",
       "              eval_metric=None, gamma=0, gpu_id=-1, grow_policy='depthwise',\n",
       "              importance_type=None, interaction_constraints='',\n",
       "              learning_rate=0.300000012, max_bin=256, max_cat_to_onehot=4,\n",
       "              max_delta_step=0, max_depth=6, max_leaves=0, min_child_weight=1,\n",
       "              missing=nan, monotone_constraints='()', n_estimators=100,\n",
       "              n_jobs=0, num_parallel_tree=1, predictor='auto', random_state=0,\n",
       "              reg_alpha=0, reg_lambda=1, ...)"
      ]
     },
     "execution_count": 14,
     "metadata": {},
     "output_type": "execute_result"
    }
   ],
   "source": [
    "import xgboost\n",
    "\n",
    "classifier = xgboost.XGBClassifier()\n",
    "\n",
    "classifier.fit(xTrain, yTrain)"
   ]
  },
  {
   "cell_type": "code",
   "execution_count": 15,
   "id": "73947380",
   "metadata": {},
   "outputs": [
    {
     "name": "stdout",
     "output_type": "stream",
     "text": [
      "MSE:\n",
      "0.08310297814856972\n",
      "[[72639   602]\n",
      " [ 6042   666]]\n",
      "\n",
      "\n",
      "Acccuracy Score:\n",
      "92.0%\n",
      "\n",
      "Precision Score:\n",
      "53.0%\n",
      "\n",
      "Recall Score:\n",
      "10.0%\n",
      "\n",
      "F1 Score:\n",
      "17.0%\n"
     ]
    }
   ],
   "source": [
    "# Get Predictions\n",
    "yPred = classifier.predict(xTest)\n",
    "\n",
    "# Create and log MSE metrics using predictions of X_test and its actual value y_test\n",
    "from sklearn.metrics import mean_squared_error\n",
    "mse = mean_squared_error(yTest, yPred)\n",
    "print(\"MSE:\")\n",
    "print(f\"{mse}\")\n",
    "\n",
    "### View Confusion Matrix...\n",
    "from sklearn.metrics import confusion_matrix\n",
    "print(confusion_matrix(yTest, yPred))\n",
    "print(\"\\n\")\n",
    "\n",
    "### View Accuracy Score...\n",
    "from sklearn.metrics import accuracy_score\n",
    "print(\"Acccuracy Score:\")\n",
    "print(f\"{round(accuracy_score(yTest, yPred), 2)*100}%\")\n",
    "\n",
    "### View Precision Score...\n",
    "from sklearn.metrics import precision_score\n",
    "print(\"\\nPrecision Score:\")\n",
    "print(f\"{round(precision_score(yTest, yPred), 2)*100}%\")\n",
    "\n",
    "### View Recall Score...\n",
    "from sklearn.metrics import recall_score\n",
    "print(\"\\nRecall Score:\")\n",
    "print(f\"{round(recall_score(yTest, yPred), 2)*100}%\")\n",
    "\n",
    "from sklearn.metrics import f1_score\n",
    "print(\"\\nF1 Score:\")\n",
    "print(f\"{round(f1_score(yTest, yPred), 2)*100}%\")"
   ]
  }
 ],
 "metadata": {
  "kernelspec": {
   "display_name": "Python 3 (ipykernel)",
   "language": "python",
   "name": "python3"
  },
  "language_info": {
   "codemirror_mode": {
    "name": "ipython",
    "version": 3
   },
   "file_extension": ".py",
   "mimetype": "text/x-python",
   "name": "python",
   "nbconvert_exporter": "python",
   "pygments_lexer": "ipython3",
   "version": "3.9.13"
  },
  "papermill": {
   "default_parameters": {},
   "duration": 245.735571,
   "end_time": "2022-07-25T19:47:49.220003",
   "environment_variables": {},
   "exception": null,
   "input_path": "__notebook__.ipynb",
   "output_path": "__notebook__.ipynb",
   "parameters": {},
   "start_time": "2022-07-25T19:43:43.484432",
   "version": "2.3.4"
  }
 },
 "nbformat": 4,
 "nbformat_minor": 5
}
